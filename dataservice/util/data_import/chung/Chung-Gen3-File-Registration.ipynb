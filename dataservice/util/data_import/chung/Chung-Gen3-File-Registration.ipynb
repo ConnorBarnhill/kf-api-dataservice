{
 "cells": [
  {
   "cell_type": "markdown",
   "metadata": {},
   "source": [
    "# Generate JSON documents for submission to Gen3 indexd\n",
    "\n",
    "This notebook will create documents for files listed in the s3 bucket `kf-seq-data-broad` for the Chung 2016 cohort."
   ]
  },
  {
   "cell_type": "code",
   "execution_count": null,
   "metadata": {},
   "outputs": [],
   "source": [
    "import os\n",
    "import uuid\n",
    "import boto3\n",
    "import requests\n",
    "import pandas as pd\n",
    "pd.set_option('display.max_colwidth', -1)\n",
    "\n",
    "from dataservice.util.data_import.utils import (\n",
    "    read_json,\n",
    "    write_json\n",
    ")\n",
    "\n",
    "DATA_DIR = '/Users/singhn4/Projects/kids_first/data/Chung'\n",
    "GF_BY_UUID_FP = os.path.join(DATA_DIR, 'genomic_files_by_uuid.json')\n",
    "STUDY_ID = 'phs001110'\n",
    "BUCKET_NAME = 'kf-seq-data-broad'\n",
    "PREFIX = 'fc-ff4e8f53-e153-4c78-b630-0ebe66030d80'"
   ]
  },
  {
   "cell_type": "code",
   "execution_count": null,
   "metadata": {},
   "outputs": [],
   "source": [
    "client = boto3.resource('s3')"
   ]
  },
  {
   "cell_type": "code",
   "execution_count": null,
   "metadata": {},
   "outputs": [],
   "source": [
    "def generate_uuids():\n",
    "    # Generate UUIDs\n",
    "    # Use etag part 1 for md5sum since there are no md5sums for this dataset\n",
    "    bucket = client.Bucket(BUCKET_NAME)\n",
    "    by_uuid = {}\n",
    "    for obj in bucket.objects.filter(Prefix=PREFIX):\n",
    "        # Create file registration\n",
    "        md5 = obj.e_tag.split('-')[0].strip('\\\"')\n",
    "        size = obj.size\n",
    "        file_name = os.path.basename(obj.key)\n",
    "        path = 's3://{}/{}'.format(BUCKET_NAME, obj.key)\n",
    "        _id = str(uuid.uuid4())\n",
    "        body = {\n",
    "            'metadata': {'acls': STUDY_ID},\n",
    "            'did': _id,\n",
    "            'file_name': file_name,\n",
    "            'form': 'object',\n",
    "            'size': size,\n",
    "            'urls': [path],\n",
    "            'hashes': {\n",
    "                'md5': md5\n",
    "            }\n",
    "        }\n",
    "        by_uuid[_id] = body\n",
    "        return by_uuid"
   ]
  },
  {
   "cell_type": "code",
   "execution_count": null,
   "metadata": {},
   "outputs": [],
   "source": [
    "# Create or read from file\n",
    "if not os.path.exists(GF_BY_UUID_FP):\n",
    "    print('Generating genomic files info and uuids and writing to file...')\n",
    "    data = generate_uuids()\n",
    "    write_json(data, GF_BY_UUID_FP)\n",
    "else:\n",
    "    print('{} already exists. Reading from file ...'.format(GF_BY_UUID_FP))\n",
    "    data = read_json(GF_BY_UUID_FP)\n",
    "    \n",
    "data"
   ]
  },
  {
   "cell_type": "code",
   "execution_count": null,
   "metadata": {},
   "outputs": [],
   "source": [
    "# Submit files to Gen3 QA via indexd endpoint\n",
    "ENABLE=False\n",
    "if ENABLE:\n",
    "    # Get auth \n",
    "    auth = (os.environ.get('KF_INDEXD_UNAME'), os.environ.get('KF_INDEXD_PWD'))\n",
    "    # Submit\n",
    "    for k, body in data.items():\n",
    "            resp = requests.post('https://gen3qa.kids-first.io/index/index/',\n",
    "                                 auth=auth,\n",
    "                                 json=body)\n",
    "            print(resp.status_code)\n",
    "print('Completed submission!')"
   ]
  },
  {
   "cell_type": "code",
   "execution_count": null,
   "metadata": {},
   "outputs": [],
   "source": []
  }
 ],
 "metadata": {
  "kernelspec": {
   "display_name": "Python 3",
   "language": "python",
   "name": "python3"
  },
  "language_info": {
   "codemirror_mode": {
    "name": "ipython",
    "version": 3
   },
   "file_extension": ".py",
   "mimetype": "text/x-python",
   "name": "python",
   "nbconvert_exporter": "python",
   "pygments_lexer": "ipython3",
   "version": "3.6.3"
  }
 },
 "nbformat": 4,
 "nbformat_minor": 2
}

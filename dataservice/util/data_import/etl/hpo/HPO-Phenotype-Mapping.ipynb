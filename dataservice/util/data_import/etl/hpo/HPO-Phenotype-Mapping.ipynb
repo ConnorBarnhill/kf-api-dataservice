{
 "cells": [
  {
   "cell_type": "code",
   "execution_count": null,
   "metadata": {},
   "outputs": [],
   "source": [
    "import os\n",
    "import json\n",
    "import obonet\n",
    "import numpy as np\n",
    "import pandas as pd\n",
    "from pprint import pprint\n",
    "\n",
    "DATA_DIR = '/Users/singhn4/Projects/kids_first/data'"
   ]
  },
  {
   "cell_type": "code",
   "execution_count": null,
   "metadata": {},
   "outputs": [],
   "source": [
    "# Helper functions\n",
    "def read_json(filepath):\n",
    "    with open(filepath, 'r') as json_file:\n",
    "        return json.load(json_file)\n",
    "\n",
    "def write_json(data, filepath):\n",
    "    with open(filepath, 'w') as json_file:\n",
    "        json.dump(data, json_file, sort_keys=True, indent=4, separators=(',', ':'))\n",
    "\n",
    "def read_or_create_hpo_map(filepath=None):\n",
    "    if not filepath:\n",
    "        filepath = os.path.join(DATA_DIR, 'hpo_map.json')\n",
    "    \n",
    "    # Cache the hpo map\n",
    "    if not os.path.isfile(filepath):\n",
    "        url = 'http://purl.obolibrary.org/obo/hp.obo'\n",
    "        graph = obonet.read_obo(url)\n",
    "        name_to_id = {data['name'].lower(): id_ for id_, data in graph.nodes(data=True)}\n",
    "        write_json(name_to_id, filepath)\n",
    "    else:\n",
    "        name_to_id = read_json(filepath)\n",
    "    \n",
    "    return name_to_id\n",
    "\n",
    "def get_term(name):\n",
    "    \"\"\" Try to resolve an hpo term from a string \"\"\"\n",
    "    \n",
    "    # Read or create hpo map\n",
    "    name_to_id = read_or_create_hpo_map()\n",
    "    \n",
    "    name = name.lower().replace('_', ' ')\n",
    "    if name in name_to_id:\n",
    "        return name_to_id[name]\n",
    "    return None\n",
    "\n",
    "def get_mapping(df, phenotype_col):\n",
    "    \"\"\" Given raw data, try to extract an initial mapping \"\"\"\n",
    "    mapping = {}\n",
    "    \n",
    "    if phenotype_col not in df.columns.tolist():\n",
    "        return mapping\n",
    "    \n",
    "    for idx, row in df.iterrows():\n",
    "        phenotype = row[phenotype_col]\n",
    "        hpo_term = get_term(phenotype)\n",
    "        mapping[phenotype] = hpo_term\n",
    "    return mapping\n",
    "\n",
    "def apply_mapping(df, mapping):\n",
    "    mapped_df = pd.DataFrame.from_dict(mapping, orient='index')\n",
    "    mapped_df.rename(columns={0: 'hpo_id'}, inplace=True)\n",
    "\n",
    "    # Merge original df with mapped df\n",
    "    df = pd.merge(df, mapped_df, left_on='phenotype', right_index=True)\n",
    "    return df\n",
    "\n",
    "def add_hpo_id_col(df, phenotype_col='phenotype'):\n",
    "    mapping = get_mapping(df, phenotype_col)\n",
    "    if mapping:\n",
    "        df = apply_mapping(df, mapping)\n",
    "    return df"
   ]
  },
  {
   "cell_type": "code",
   "execution_count": null,
   "metadata": {},
   "outputs": [],
   "source": [
    "# Read phenotypes\n",
    "df = pd.read_csv('/Users/singhn4/Desktop/phenotype_counts.csv')\n",
    "df.head()"
   ]
  },
  {
   "cell_type": "code",
   "execution_count": null,
   "metadata": {},
   "outputs": [],
   "source": [
    "# Get hpo terms\n",
    "df = add_hpo_id_col(df)\n",
    "df"
   ]
  },
  {
   "cell_type": "code",
   "execution_count": null,
   "metadata": {},
   "outputs": [],
   "source": []
  }
 ],
 "metadata": {
  "kernelspec": {
   "display_name": "Python 3",
   "language": "python",
   "name": "python3"
  },
  "language_info": {
   "codemirror_mode": {
    "name": "ipython",
    "version": 3
   },
   "file_extension": ".py",
   "mimetype": "text/x-python",
   "name": "python",
   "nbconvert_exporter": "python",
   "pygments_lexer": "ipython3",
   "version": "3.6.3"
  }
 },
 "nbformat": 4,
 "nbformat_minor": 2
}

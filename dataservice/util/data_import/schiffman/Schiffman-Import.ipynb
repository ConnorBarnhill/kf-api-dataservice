{
 "cells": [
  {
   "cell_type": "code",
   "execution_count": null,
   "metadata": {},
   "outputs": [],
   "source": [
    "import os\n",
    "from pprint import pprint\n",
    "import pandas as pd\n",
    "pd.set_option('display.max_colwidth', -1)\n",
    "\n",
    "from dataservice.util.data_import.utils import (\n",
    "    dropna_rows_cols,\n",
    "    reformat_column_names,\n",
    "    cols_to_lower,\n",
    "    read_json, \n",
    "    write_json,\n",
    "    extract_uncompressed_file_ext\n",
    ")\n",
    "\n",
    "DATA_DIR = '/Users/singhn4/Projects/kids_first/data/Schiffman'"
   ]
  },
  {
   "cell_type": "code",
   "execution_count": null,
   "metadata": {},
   "outputs": [],
   "source": [
    "# Create study\n",
    "study = {\n",
    "    'data_access_authority': 'dbGaP',\n",
    "    'study_id': 'phs001194',\n",
    "    'study_version': 'v1.p2',\n",
    "    'study_name': 'Expanded Ewing sarcoma cohort for tumor genomics and association with DNA repair deficiences, clinical presentation, and outcome',\n",
    "    'attribution': 'https://www.ncbi.nlm.nih.gov/projects/gap/cgi-bin/GetAcknowledgementStatement.cgi?study_id=phs001194.v1.p2'\n",
    "}\n",
    "study_df = pd.DataFrame([study])\n",
    "study_df.to_csv(os.path.join(DATA_DIR, 'study.txt'))\n",
    "\n",
    "# Create investigator\n",
    "invest = {\n",
    "    'investigator_name': 'Joshua Schiffman',\n",
    "    'institution': 'University of Utah'\n",
    "}\n",
    "inv_df = pd.DataFrame([invest])\n",
    "inv_df.to_csv(os.path.join(DATA_DIR, 'investigator.txt'))"
   ]
  },
  {
   "cell_type": "code",
   "execution_count": null,
   "metadata": {},
   "outputs": [],
   "source": [
    "# Read study files data\n",
    "@reformat_column_names\n",
    "@dropna_rows_cols\n",
    "def read_study_file_data(filepaths=None):\n",
    "    \"\"\"\n",
    "    Read in raw study files\n",
    "    \"\"\"\n",
    "    if not filepaths:\n",
    "        filepaths = os.listdir(DATA_DIR)\n",
    "\n",
    "    study_files = [{\"study_file_name\": f}\n",
    "                   for f in filepaths]\n",
    "    return pd.DataFrame(study_files)"
   ]
  },
  {
   "cell_type": "code",
   "execution_count": null,
   "metadata": {},
   "outputs": [],
   "source": [
    "@reformat_column_names\n",
    "@dropna_rows_cols\n",
    "def read_study_data(filepath=None):\n",
    "    \"\"\"\n",
    "    Read study data\n",
    "    \"\"\"\n",
    "    if not filepath:\n",
    "        filepath = os.path.join(DATA_DIR,\n",
    "                                'study.txt')\n",
    "    df = pd.read_csv(filepath)\n",
    "\n",
    "    return df"
   ]
  },
  {
   "cell_type": "code",
   "execution_count": null,
   "metadata": {},
   "outputs": [],
   "source": [
    "@reformat_column_names\n",
    "@dropna_rows_cols\n",
    "def read_investigator_data(filepath=None):\n",
    "    \"\"\"\n",
    "    Read investigator data\n",
    "    \"\"\"\n",
    "    if not filepath:\n",
    "        filepath = os.path.join(DATA_DIR,\n",
    "                                'investigator.txt')\n",
    "    df = pd.read_csv(filepath)\n",
    "\n",
    "    return df"
   ]
  },
  {
   "cell_type": "code",
   "execution_count": null,
   "metadata": {},
   "outputs": [],
   "source": [
    "@reformat_column_names\n",
    "@dropna_rows_cols\n",
    "def read_data(filepath=None):\n",
    "    \"\"\"\n",
    "    Read all the data into a dataframe\n",
    "    \"\"\"\n",
    "    if not filepath:\n",
    "        filepath = os.path.join(DATA_DIR, 'Schiffman_X01 Sample List.xlsx')\n",
    "\n",
    "    df = pd.read_excel(filepath)\n",
    "\n",
    "    return df"
   ]
  },
  {
   "cell_type": "code",
   "execution_count": null,
   "metadata": {},
   "outputs": [],
   "source": [
    "@reformat_column_names\n",
    "@dropna_rows_cols\n",
    "def read_participant_data(filepath=None):\n",
    "    if not filepath:\n",
    "        filepath = os.path.join(DATA_DIR, 'Schiffman_X01 Sample List.xlsx')\n",
    "    # Participants\n",
    "    df = pd.read_excel(filepath)\n",
    "    cols_to_lower(df)\n",
    "    # Extract participant columns\n",
    "    participant_df = df[['individual_name', 'ewing_trio_number', 'relationship_to_proband']]\n",
    "\n",
    "    # Create is_proband col\n",
    "    def func(row): return row.relationship_to_proband == 'Self/Case'\n",
    "    participant_df['relationship_to_proband'] = participant_df.apply(func, axis=1)\n",
    "\n",
    "    # Create family_id column\n",
    "    participant_df.rename(columns={'ewing_trio_number': 'family_id'})\n",
    "    \n",
    "    return participant_df"
   ]
  },
  {
   "cell_type": "code",
   "execution_count": null,
   "metadata": {},
   "outputs": [],
   "source": [
    "@reformat_column_names\n",
    "@dropna_rows_cols\n",
    "def create_diagnosis_df(df):\n",
    "    # Create diagnosis df\n",
    "    df.loc[(df['morphology'] == \"9260/3: Ewing's sarcoma\\r\\nEwing's tumor\"),'morphology']= 'Ewing Sarcoma'    \n",
    "    def func(row): return \"_\".join(['diagnosis', str(row.name)])\n",
    "    df['diagnosis_id'] = df.apply(func, axis=1)\n",
    "    df = df[['individual_name', 'age_at_diagnosis_(days)', 'morphology']]\n",
    "    return df"
   ]
  },
  {
   "cell_type": "code",
   "execution_count": null,
   "metadata": {},
   "outputs": [],
   "source": [
    "@reformat_column_names\n",
    "@dropna_rows_cols\n",
    "def read_genomic_data(filepath=None):\n",
    "    \"\"\"\n",
    "    Read genomic data\n",
    "    \"\"\"\n",
    "    if not filepath:\n",
    "        filepath = os.path.join(\n",
    "            DATA_DIR,\n",
    "            'Schiffman_EwingSarcoma_QC_vs_Phenotype.xlsx')\n",
    "\n",
    "    df = pd.read_excel(filepath)\n",
    "\n",
    "    return df"
   ]
  },
  {
   "cell_type": "code",
   "execution_count": null,
   "metadata": {},
   "outputs": [],
   "source": [
    "def read_genomic_files_info(filepath):\n",
    "    \"\"\"\n",
    "    Read genomic file info json produced by Gen3 registration\n",
    "    and convert into genomic file table for dataservice\n",
    "    \"\"\"\n",
    "    data = read_json(filepath)\n",
    "    df = pd.DataFrame(list(data.values()))\n",
    "\n",
    "    # Reformat\n",
    "    df['md5sum'] = df['hashes'].apply(lambda x: x['md5'])\n",
    "    df['file_url'] = df['urls'].apply(lambda x: x[0])\n",
    "    df['file_name'] = df['file_url'].apply(\n",
    "        lambda file_url: os.path.basename(file_url))\n",
    "    df['file_format'] = df['file_name'].apply(\n",
    "        extract_uncompressed_file_ext)\n",
    "    df.rename(columns={'did': 'uuid', 'size': 'file_size'}, inplace=True)\n",
    "\n",
    "    # Data type\n",
    "    def func(x):\n",
    "        x = x.strip()\n",
    "        if x.endswith('cram') or x.endswith('bam'):\n",
    "            val = 'submitted aligned reads'\n",
    "        elif x.endswith('crai'):\n",
    "            val = 'submitted aligned reads index'\n",
    "        elif 'fastq' in x:\n",
    "            val = 'submitted reads'\n",
    "        elif 'vcf' in x:\n",
    "            val = 'simple nucleotide variation'\n",
    "        else:\n",
    "            val = None\n",
    "        return val\n",
    "\n",
    "    df['data_type'] = df['file_name'].apply(func)\n",
    "\n",
    "    return df\n"
   ]
  },
  {
   "cell_type": "code",
   "execution_count": null,
   "metadata": {},
   "outputs": [],
   "source": [
    "# Genomic files\n",
    "def _create_genomic_file_df(genomic_df, biospecimen_df):\n",
    "    filepath = os.path.join(DATA_DIR, 'genomic_file_uuid.json')\n",
    "    gf_info_df = read_genomic_files_info(filepath)\n",
    "    genomic_df = genomic_df[['build_id', 'phenotype_sheet_sample_name', 'bam_path']]\n",
    "    genomic_df['file_name'] = genomic_df['bam_path'].apply(\n",
    "        lambda p: os.path.basename(p))\n",
    "\n",
    "    # Merge sequencing experiment data\n",
    "    df1 = pd.merge(genomic_df, gf_info_df, on='file_name')\n",
    "    # Merge biospecimen data\n",
    "    genomic_file_df = pd.merge(df1, biospecimen_df, left_on='phenotype_sheet_sample_name', right_on='sample_name')\n",
    "    genomic_file_df = genomic_file_df[['build_id', \n",
    "                     'sample_name', \n",
    "                     'file_name',\n",
    "                    'file_format',\n",
    "                     'uuid', \n",
    "                     'form', \n",
    "                     'hashes',\n",
    "                     'file_size',\n",
    "                     'file_url',\n",
    "                     'data_type',\n",
    "                     'md5sum']]\n",
    "    return genomic_file_df"
   ]
  },
  {
   "cell_type": "code",
   "execution_count": null,
   "metadata": {},
   "outputs": [],
   "source": [
    "def create_seq_exp_data(df):\n",
    "    df = df[['build_id', 'mean_insert_size', 'pf_reads',\n",
    "             'phenotype_sheet_sample_name']]\n",
    "    return df"
   ]
  },
  {
   "cell_type": "markdown",
   "metadata": {},
   "source": [
    "### Explore"
   ]
  },
  {
   "cell_type": "code",
   "execution_count": null,
   "metadata": {},
   "outputs": [],
   "source": [
    "pprint([f for f in os.listdir(DATA_DIR)])"
   ]
  },
  {
   "cell_type": "markdown",
   "metadata": {},
   "source": [
    "#### Sample List (Schiffman_X01 Sample List.xlsx)"
   ]
  },
  {
   "cell_type": "code",
   "execution_count": null,
   "metadata": {},
   "outputs": [],
   "source": [
    "sample_list_df = pd.read_excel(os.path.join(DATA_DIR, 'Schiffman_X01 Sample List.xlsx'))\n",
    "cols_to_lower(sample_list_df)\n",
    "print(sample_list_df.shape)\n",
    "sample_list_df.head()"
   ]
  },
  {
   "cell_type": "code",
   "execution_count": null,
   "metadata": {},
   "outputs": [],
   "source": [
    "sample_list_df.groupby('relationship_to_proband').describe()"
   ]
  },
  {
   "cell_type": "code",
   "execution_count": null,
   "metadata": {},
   "outputs": [],
   "source": [
    "# Unique morphologies\n",
    "print('Morphologies')\n",
    "pprint(sample_list_df['morphology'].unique().tolist())\n",
    "print('\\nTopographies')\n",
    "# Unique topographies\n",
    "pprint(sample_list_df['topography'].unique().tolist())"
   ]
  },
  {
   "cell_type": "markdown",
   "metadata": {},
   "source": [
    "#### QC Phenotype (Schiffman_EwingSarcoma_QC_vs_Phenotype.xlsx)"
   ]
  },
  {
   "cell_type": "code",
   "execution_count": null,
   "metadata": {},
   "outputs": [],
   "source": [
    "qc_phenotype_df = pd.read_excel(os.path.join(DATA_DIR, 'Schiffman_EwingSarcoma_QC_vs_Phenotype.xlsx'))\n",
    "del qc_phenotype_df['instrument_data_ids']\n",
    "cols_to_lower(qc_phenotype_df)\n",
    "qc_phenotype_df.head()"
   ]
  },
  {
   "cell_type": "code",
   "execution_count": null,
   "metadata": {},
   "outputs": [],
   "source": [
    "qc_phenotype_df.describe(include=['O']).T.sort_values('unique', ascending=False)\n",
    "# qc_phenotype_df.dtypes"
   ]
  },
  {
   "cell_type": "markdown",
   "metadata": {},
   "source": [
    "#### Trio Summary"
   ]
  },
  {
   "cell_type": "code",
   "execution_count": null,
   "metadata": {},
   "outputs": [],
   "source": [
    "trio_df = pd.read_excel(os.path.join(DATA_DIR, 'Schiffman_EwingSarcoma_QC_vs_Phenotype.xlsx'), sheet_name=1)\n",
    "trio_df.head()"
   ]
  },
  {
   "cell_type": "markdown",
   "metadata": {},
   "source": [
    "### Extract"
   ]
  },
  {
   "cell_type": "code",
   "execution_count": null,
   "metadata": {},
   "outputs": [],
   "source": [
    "all_data_df = read_data()"
   ]
  },
  {
   "cell_type": "code",
   "execution_count": null,
   "metadata": {},
   "outputs": [],
   "source": [
    "# Study\n",
    "study_df = read_study_data()\n",
    "study_df.head()"
   ]
  },
  {
   "cell_type": "code",
   "execution_count": null,
   "metadata": {},
   "outputs": [],
   "source": [
    "# Investigator\n",
    "investigator_df = read_investigator_data()\n",
    "investigator_df.head()"
   ]
  },
  {
   "cell_type": "code",
   "execution_count": null,
   "metadata": {},
   "outputs": [],
   "source": [
    "# Study files\n",
    "study_file_df = read_study_file_data()\n",
    "study_file_df.head()"
   ]
  },
  {
   "cell_type": "code",
   "execution_count": null,
   "metadata": {},
   "outputs": [],
   "source": [
    "# Participants\n",
    "participant_df = read_participant_data()\n",
    "participant_df.head()"
   ]
  },
  {
   "cell_type": "code",
   "execution_count": null,
   "metadata": {},
   "outputs": [],
   "source": [
    "# Diagnosis\n",
    "diagnosis_df = create_diagnosis_df(all_data_df)\n",
    "diagnosis_df.head()\n",
    "diagnosis_df = diagnosis_df.where((pd.notnull(diagnosis_df)), None)\n",
    "diagnosis_df.head()"
   ]
  },
  {
   "cell_type": "code",
   "execution_count": null,
   "metadata": {},
   "outputs": [],
   "source": [
    "# Phenotypes\n",
    "def create_phenotype_df(df):\n",
    "    df['phenotype'] = \"Ewing's Sarcoma\"\n",
    "    df['hpo_id'] = \"HP:0012254\"\n",
    "    df['observed'] = pd.notnull(df['morphology'])\n",
    "    return df\n",
    "phenotype_df = create_phenotype_df(diagnosis_df)\n",
    "phenotype_df.head()"
   ]
  },
  {
   "cell_type": "code",
   "execution_count": null,
   "metadata": {},
   "outputs": [],
   "source": [
    "# Family relationships\n",
    "df = all_data_df[['individual_name', 'relationship_to_proband', 'ewing_trio_number']]\n",
    "df.drop_duplicates('individual_name', inplace=True)\n",
    "df['ewing_trio_number'] = df['ewing_trio_number'].astype(str)\n",
    "fams = []\n",
    "# For each group\n",
    "for name, g in df.groupby('ewing_trio_number'):\n",
    "    fam = {}\n",
    "    # For each individual in family group\n",
    "    for idx, row in g.iterrows():\n",
    "        rel = row['relationship_to_proband']\n",
    "        if rel == 'Self/Case':\n",
    "            col = 'relative_id'\n",
    "        else:\n",
    "            col = 'participant_id'\n",
    "        fam[col] = row['individual_name']\n",
    "        fam['participant_to_relative_relation'] = rel\n",
    "    if rel != 'Self/Case':    \n",
    "        fams.append(fam)\n",
    "df = pd.DataFrame(fams)\n",
    "def func(row): return \"_\".join(['rel', str(row.name)])\n",
    "df['rel_id'] = df.apply(func, axis=1)"
   ]
  },
  {
   "cell_type": "code",
   "execution_count": null,
   "metadata": {},
   "outputs": [],
   "source": [
    "# Create family relationships\n",
    "df = all_data_df[['individual_name', 'relationship_to_proband', 'ewing_trio_number']]\n",
    "family_dict = {}\n",
    "for idx, row in df.iterrows():\n",
    "    fam_id = row['ewing_trio_number']\n",
    "    if fam_id not in family_dict:\n",
    "        family_dict[fam_id] = {}\n",
    "    family_dict[fam_id][row['relationship_to_proband']] = row['individual_name']\n",
    "df = pd.DataFrame(list(family_dict.values()))\n",
    "df.head()"
   ]
  },
  {
   "cell_type": "code",
   "execution_count": null,
   "metadata": {},
   "outputs": [],
   "source": [
    "# Biospecimens\n",
    "biospecimen_df = read_data()\n",
    "biospecimen_df.head()"
   ]
  },
  {
   "cell_type": "code",
   "execution_count": null,
   "metadata": {},
   "outputs": [],
   "source": [
    "# Sequencing Experiments\n",
    "genomic_df = read_genomic_data()\n",
    "genomic_df.head()\n",
    "seq_exp_df = create_seq_exp_data(genomic_df)\n",
    "seq_exp_df.head()"
   ]
  },
  {
   "cell_type": "code",
   "execution_count": null,
   "metadata": {},
   "outputs": [],
   "source": [
    "genomic_df.head()"
   ]
  },
  {
   "cell_type": "code",
   "execution_count": null,
   "metadata": {},
   "outputs": [],
   "source": [
    "df = _create_genomic_file_df(genomic_df, biospecimen_df)\n",
    "df.head()"
   ]
  },
  {
   "cell_type": "code",
   "execution_count": null,
   "metadata": {},
   "outputs": [],
   "source": []
  }
 ],
 "metadata": {
  "kernelspec": {
   "display_name": "Python 3",
   "language": "python",
   "name": "python3"
  },
  "language_info": {
   "codemirror_mode": {
    "name": "ipython",
    "version": 3
   },
   "file_extension": ".py",
   "mimetype": "text/x-python",
   "name": "python",
   "nbconvert_exporter": "python",
   "pygments_lexer": "ipython3",
   "version": "3.6.3"
  }
 },
 "nbformat": 4,
 "nbformat_minor": 2
}

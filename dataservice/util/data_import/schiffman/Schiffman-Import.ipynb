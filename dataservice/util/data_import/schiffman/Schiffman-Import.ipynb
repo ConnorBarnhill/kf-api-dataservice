{
 "cells": [
  {
   "cell_type": "code",
   "execution_count": null,
   "metadata": {},
   "outputs": [],
   "source": [
    "import os\n",
    "from pprint import pprint\n",
    "import pandas as pd\n",
    "pd.set_option('display.max_colwidth', -1)\n",
    "\n",
    "DATA_DIR = '/Users/singhn4/Projects/kids_first/data/Schiffman'"
   ]
  },
  {
   "cell_type": "code",
   "execution_count": null,
   "metadata": {},
   "outputs": [],
   "source": [
    "# Helper functions\n",
    "def dropna_rows_cols(df_func):\n",
    "    \"\"\"\n",
    "    Decorator to drop rows and cols w all nan values\n",
    "    \"\"\"\n",
    "\n",
    "    def wrapper(*args, **kwargs):\n",
    "        df = df_func(*args, **kwargs)\n",
    "\n",
    "        # None or empty df\n",
    "        try:\n",
    "            if df.empty:\n",
    "                return df\n",
    "        except AttributeError:\n",
    "            return df\n",
    "\n",
    "        # Rows\n",
    "        df.dropna(how=\"all\", inplace=True)\n",
    "        # Cols\n",
    "        df.dropna(how=\"all\", axis=1, inplace=True)\n",
    "        return df\n",
    "\n",
    "    return wrapper\n",
    "\n",
    "def reformat_column_names(df_func):\n",
    "    \"\"\"\n",
    "    Decorator to reformat DataFrame column names.\n",
    "\n",
    "    Replace all column names having whitespace with underscore\n",
    "    and make lowercase\n",
    "    \"\"\"\n",
    "\n",
    "    def wrapper(*args, **kwargs):\n",
    "        df = df_func(*args, **kwargs)\n",
    "        # None or empty df\n",
    "        try:\n",
    "            if df.empty:\n",
    "                return df\n",
    "        except AttributeError:\n",
    "            return df\n",
    "        df.columns = map((lambda x: x.replace(\" \", \"_\").lower()),\n",
    "                         df.columns)\n",
    "        return df\n",
    "\n",
    "    return wrapper"
   ]
  },
  {
   "cell_type": "code",
   "execution_count": null,
   "metadata": {},
   "outputs": [],
   "source": [
    "# Create study\n",
    "study = {\n",
    "    'data_access_authority': 'dbGaP',\n",
    "    'study_id': 'phs001194',\n",
    "    'study_version': 'v1.p2',\n",
    "    'study_name': 'Expanded Ewing sarcoma cohort for tumor genomics and association with DNA repair deficiences, clinical presentation, and outcome',\n",
    "    'attribution': 'https://www.ncbi.nlm.nih.gov/projects/gap/cgi-bin/GetAcknowledgementStatement.cgi?study_id=phs001194.v1.p2'\n",
    "}\n",
    "study_df = pd.DataFrame([study])\n",
    "study_df.to_csv(os.path.join(DATA_DIR, 'study.txt'))\n",
    "\n",
    "# Create investigator\n",
    "invest = {\n",
    "    'investigator_name': 'Joshua Schiffman',\n",
    "    'institution': 'University of Utah'\n",
    "}\n",
    "inv_df = pd.DataFrame([invest])\n",
    "inv_df.to_csv(os.path.join(DATA_DIR, 'investigator.txt'))"
   ]
  },
  {
   "cell_type": "code",
   "execution_count": null,
   "metadata": {},
   "outputs": [],
   "source": [
    "# Read study files data\n",
    "@reformat_column_names\n",
    "@dropna_rows_cols\n",
    "def read_study_file_data(filepaths=None):\n",
    "    \"\"\"\n",
    "    Read in raw study files\n",
    "    \"\"\"\n",
    "    if not filepaths:\n",
    "        filepaths = os.listdir(DATA_DIR)\n",
    "\n",
    "    study_files = [{\"study_file_name\": f}\n",
    "                   for f in filepaths]\n",
    "    return pd.DataFrame(study_files)"
   ]
  },
  {
   "cell_type": "code",
   "execution_count": null,
   "metadata": {},
   "outputs": [],
   "source": [
    "@reformat_column_names\n",
    "@dropna_rows_cols\n",
    "def read_study_data(filepath=None):\n",
    "    \"\"\"\n",
    "    Read study data\n",
    "    \"\"\"\n",
    "    if not filepath:\n",
    "        filepath = os.path.join(DATA_DIR,\n",
    "                                'study.txt')\n",
    "    df = pd.read_csv(filepath)\n",
    "\n",
    "    return df"
   ]
  },
  {
   "cell_type": "code",
   "execution_count": null,
   "metadata": {},
   "outputs": [],
   "source": [
    "@reformat_column_names\n",
    "@dropna_rows_cols\n",
    "def read_investigator_data(filepath=None):\n",
    "    \"\"\"\n",
    "    Read investigator data\n",
    "    \"\"\"\n",
    "    if not filepath:\n",
    "        filepath = os.path.join(DATA_DIR,\n",
    "                                'investigator.txt')\n",
    "    df = pd.read_csv(filepath)\n",
    "\n",
    "    return df"
   ]
  },
  {
   "cell_type": "code",
   "execution_count": null,
   "metadata": {},
   "outputs": [],
   "source": [
    "def cols_to_lower(df):\n",
    "    df.columns = map((lambda x: x.replace(\" \", \"_\").lower()), df.columns)"
   ]
  },
  {
   "cell_type": "code",
   "execution_count": null,
   "metadata": {},
   "outputs": [],
   "source": [
    "@reformat_column_names\n",
    "@dropna_rows_cols\n",
    "def read_participant_data(filepath=None):\n",
    "    if not filepath:\n",
    "        filepath = os.path.join(DATA_DIR, 'Schiffman_X01 Sample List.xlsx')\n",
    "    # Participants\n",
    "    df = pd.read_excel(filepath)\n",
    "    cols_to_lower(df)\n",
    "    # Extract participant columns\n",
    "    participant_df = df[['individual_name', 'ewing_trio_number', 'relationship_to_proband']]\n",
    "\n",
    "    # Create is_proband col\n",
    "    def func(row): return row.relationship_to_proband == 'Self/Case'\n",
    "    participant_df['relationship_to_proband'] = participant_df.apply(func, axis=1)\n",
    "\n",
    "    # Create family_id column\n",
    "    participant_df.rename(columns={'ewing_trio_number': 'family_id'})\n",
    "    \n",
    "    return participant_df"
   ]
  },
  {
   "cell_type": "code",
   "execution_count": null,
   "metadata": {},
   "outputs": [],
   "source": [
    "# Participants\n",
    "filepath = os.path.join(DATA_DIR, 'Schiffman_X01 Sample List.xlsx')\n",
    "all_data_df = pd.read_excel(filepath)\n",
    "cols_to_lower(all_data_df)\n",
    "\n",
    "def create_diagnosis_df(df):\n",
    "    # Create diagnosis df\n",
    "    df.loc[(df['morphology'] == \"9260/3: Ewing's sarcoma\\r\\nEwing's tumor\"),'morphology']= 'Ewing Sarcoma'    \n",
    "    def func(row): return \"_\".join(['diagnosis', str(row.name)])\n",
    "    df['diagnosis_id'] = df.apply(func, axis=1)\n",
    "    df = df[['individual_name', 'age_at_diagnosis_(days)', 'morphology']]\n",
    "    return df"
   ]
  },
  {
   "cell_type": "code",
   "execution_count": null,
   "metadata": {},
   "outputs": [],
   "source": [
    "# Sequencing experiment\n",
    "@reformat_column_names\n",
    "@dropna_rows_cols\n",
    "def read_genomic_data(filepath=None):\n",
    "    if not filepath:\n",
    "        df = pd.read_excel(os.path.join(DATA_DIR, 'Schiffman_EwingSarcoma_QC_vs_Phenotype.xlsx'))\n",
    "        del df['instrument_data_ids']\n",
    "    return df\n",
    "\n",
    "def create_seq_exp_data(df):\n",
    "    df = df[['build_id', 'mean_insert_size', 'pf_reads', 'phenotype_sheet_sample_name']]\n",
    "    return df"
   ]
  },
  {
   "cell_type": "code",
   "execution_count": null,
   "metadata": {},
   "outputs": [],
   "source": [
    "# Genomic files\n",
    "import json \n",
    "df = read_genomic_data()\n",
    "df.describe(include=['O']).T.sort_values('unique', ascending=False)"
   ]
  },
  {
   "cell_type": "code",
   "execution_count": null,
   "metadata": {},
   "outputs": [],
   "source": [
    "# Create genomic file df\n",
    "def create_genomic_file_df(df):\n",
    "    df = df[['build_id', 'bam_path']]\n",
    "    df['file_name'] = df['bam_path'].apply(lambda p: os.path.basename(p))\n",
    "\n",
    "    def get_ext(fp):\n",
    "        filename = os.path.basename(fp)\n",
    "        parts = filename.split('.')\n",
    "        if len(parts) > 2:\n",
    "            ext = '.'.join(parts[1:])\n",
    "        else:\n",
    "            ext = parts[-1]\n",
    "        return ext\n",
    "\n",
    "    with open(os.path.join(DATA_DIR, 'genomic_file_uuid.json'), 'r') as json_file:\n",
    "        uuid_dict = json.load(json_file)\n",
    "\n",
    "    gf_dicts = []\n",
    "    for k, v in uuid_dict.items():\n",
    "        file_info = {\n",
    "            'uuid': v['did'],\n",
    "            'md5sum': v['hashes']['md5'],\n",
    "            'file_url': v['urls'][0],\n",
    "            'data_type': 'submitted aligned reads',\n",
    "            'file_format': get_ext(v['urls'][0]),\n",
    "            'file_name': os.path.basename(v['urls'][0])\n",
    "        }\n",
    "        gf_dicts.append(file_info)\n",
    "\n",
    "    gf_df = pd.DataFrame(gf_dicts)\n",
    "\n",
    "    genomic_file_df = pd.merge(df, gf_df, on='file_name')\n",
    "    \n",
    "    return genomic_file_df\n"
   ]
  },
  {
   "cell_type": "markdown",
   "metadata": {},
   "source": [
    "### Explore"
   ]
  },
  {
   "cell_type": "code",
   "execution_count": null,
   "metadata": {},
   "outputs": [],
   "source": [
    "pprint([f for f in os.listdir(DATA_DIR)])"
   ]
  },
  {
   "cell_type": "markdown",
   "metadata": {},
   "source": [
    "#### Sample List (Schiffman_X01 Sample List.xlsx)"
   ]
  },
  {
   "cell_type": "code",
   "execution_count": null,
   "metadata": {},
   "outputs": [],
   "source": [
    "sample_list_df = pd.read_excel(os.path.join(DATA_DIR, 'Schiffman_X01 Sample List.xlsx'))\n",
    "cols_to_lower(sample_list_df)\n",
    "print(sample_list_df.shape)\n",
    "sample_list_df.head()"
   ]
  },
  {
   "cell_type": "code",
   "execution_count": null,
   "metadata": {},
   "outputs": [],
   "source": [
    "sample_list_df.groupby('relationship_to_proband').describe()"
   ]
  },
  {
   "cell_type": "code",
   "execution_count": null,
   "metadata": {},
   "outputs": [],
   "source": [
    "# Unique morphologies\n",
    "print('Morphologies')\n",
    "pprint(sample_list_df['morphology'].unique().tolist())\n",
    "print('\\nTopographies')\n",
    "# Unique topographies\n",
    "pprint(sample_list_df['topography'].unique().tolist())"
   ]
  },
  {
   "cell_type": "markdown",
   "metadata": {},
   "source": [
    "#### QC Phenotype (Schiffman_EwingSarcoma_QC_vs_Phenotype.xlsx)"
   ]
  },
  {
   "cell_type": "code",
   "execution_count": null,
   "metadata": {},
   "outputs": [],
   "source": [
    "qc_phenotype_df = pd.read_excel(os.path.join(DATA_DIR, 'Schiffman_EwingSarcoma_QC_vs_Phenotype.xlsx'))\n",
    "del qc_phenotype_df['instrument_data_ids']\n",
    "cols_to_lower(qc_phenotype_df)\n",
    "qc_phenotype_df.head()"
   ]
  },
  {
   "cell_type": "code",
   "execution_count": null,
   "metadata": {},
   "outputs": [],
   "source": [
    "qc_phenotype_df.describe(include=['O']).T.sort_values('unique', ascending=False)\n",
    "# qc_phenotype_df.dtypes"
   ]
  },
  {
   "cell_type": "markdown",
   "metadata": {},
   "source": [
    "#### Trio Summary"
   ]
  },
  {
   "cell_type": "code",
   "execution_count": null,
   "metadata": {},
   "outputs": [],
   "source": [
    "trio_df = pd.read_excel(os.path.join(DATA_DIR, 'Schiffman_EwingSarcoma_QC_vs_Phenotype.xlsx'), sheet_name=1)\n",
    "trio_df.head()"
   ]
  },
  {
   "cell_type": "markdown",
   "metadata": {},
   "source": [
    "### Extract"
   ]
  },
  {
   "cell_type": "code",
   "execution_count": null,
   "metadata": {},
   "outputs": [],
   "source": [
    "# Study\n",
    "study_df = read_study_data()\n",
    "study_df.head()"
   ]
  },
  {
   "cell_type": "code",
   "execution_count": null,
   "metadata": {},
   "outputs": [],
   "source": [
    "# Investigator\n",
    "investigator_df = read_investigator_data()\n",
    "investigator_df.head()"
   ]
  },
  {
   "cell_type": "code",
   "execution_count": null,
   "metadata": {},
   "outputs": [],
   "source": [
    "# Study files\n",
    "study_file_df = read_study_file_data()\n",
    "study_file_df.head()"
   ]
  },
  {
   "cell_type": "code",
   "execution_count": null,
   "metadata": {},
   "outputs": [],
   "source": [
    "# Participants\n",
    "participant_df = read_participant_data()\n",
    "participant_df.head()"
   ]
  },
  {
   "cell_type": "code",
   "execution_count": null,
   "metadata": {},
   "outputs": [],
   "source": [
    "# Diagnosis\n",
    "diagnosis_df = create_diagnosis_df(all_data_df)\n",
    "diagnosis_df.head()\n",
    "diagnosis_df = diagnosis_df.where((pd.notnull(diagnosis_df)), None)\n",
    "diagnosis_df.head()"
   ]
  },
  {
   "cell_type": "code",
   "execution_count": null,
   "metadata": {},
   "outputs": [],
   "source": [
    "# Phenotypes\n",
    "def create_phenotype_df(df):\n",
    "    df['phenotype'] = \"Ewing's Sarcoma\"\n",
    "    df['hpo_id'] = \"HP:0012254\"\n",
    "    df['observed'] = pd.notnull(df['morphology'])\n",
    "    return df\n",
    "phenotype_df = create_phenotype_df(diagnosis_df)\n",
    "phenotype_df.head()"
   ]
  },
  {
   "cell_type": "code",
   "execution_count": null,
   "metadata": {},
   "outputs": [],
   "source": [
    "# Family relationships\n",
    "df = all_data_df[['individual_name', 'relationship_to_proband', 'ewing_trio_number']]\n",
    "df.drop_duplicates('individual_name', inplace=True)\n",
    "df['ewing_trio_number'] = df['ewing_trio_number'].astype(str)\n",
    "fams = []\n",
    "# For each group\n",
    "for name, g in df.groupby('ewing_trio_number'):\n",
    "    fam = {}\n",
    "    # For each individual in family group\n",
    "    for idx, row in g.iterrows():\n",
    "        rel = row['relationship_to_proband']\n",
    "        if rel == 'Self/Case':\n",
    "            col = 'relative_id'\n",
    "        else:\n",
    "            col = 'participant_id'\n",
    "        fam[col] = row['individual_name']\n",
    "        fam['participant_to_relative_relation'] = rel\n",
    "    if rel != 'Self/Case':    \n",
    "        fams.append(fam)\n",
    "df = pd.DataFrame(fams)\n",
    "def func(row): return \"_\".join(['rel', str(row.name)])\n",
    "df['rel_id'] = df.apply(func, axis=1)"
   ]
  },
  {
   "cell_type": "code",
   "execution_count": null,
   "metadata": {},
   "outputs": [],
   "source": [
    "# Create family relationships\n",
    "df = all_data_df[['individual_name', 'relationship_to_proband', 'ewing_trio_number']]\n",
    "family_dict = {}\n",
    "for idx, row in df.iterrows():\n",
    "    fam_id = row['ewing_trio_number']\n",
    "    if fam_id not in family_dict:\n",
    "        family_dict[fam_id] = {}\n",
    "    family_dict[fam_id][row['relationship_to_proband']] = row['individual_name']\n",
    "df = pd.DataFrame(list(family_dict.values()))\n",
    "df"
   ]
  },
  {
   "cell_type": "code",
   "execution_count": null,
   "metadata": {},
   "outputs": [],
   "source": []
  }
 ],
 "metadata": {
  "kernelspec": {
   "display_name": "Python 3",
   "language": "python",
   "name": "python3"
  },
  "language_info": {
   "codemirror_mode": {
    "name": "ipython",
    "version": 3
   },
   "file_extension": ".py",
   "mimetype": "text/x-python",
   "name": "python",
   "nbconvert_exporter": "python",
   "pygments_lexer": "ipython3",
   "version": "3.6.3"
  }
 },
 "nbformat": 4,
 "nbformat_minor": 2
}
